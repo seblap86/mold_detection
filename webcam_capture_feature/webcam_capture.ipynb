{
 "cells": [
  {
   "cell_type": "code",
   "execution_count": 1,
   "id": "674454bd",
   "metadata": {},
   "outputs": [],
   "source": [
    "import cv2\n",
    "from tkinter import image_names\n",
    "import os \n",
    "import matplotlib.pyplot as plt\n",
    "import time\n",
    "from PIL import Image\n",
    "from hashlib import md5"
   ]
  },
  {
   "cell_type": "code",
   "execution_count": 2,
   "id": "6449c8c5",
   "metadata": {},
   "outputs": [
    {
     "ename": "ModuleNotFoundError",
     "evalue": "No module named 'pyqt'",
     "output_type": "error",
     "traceback": [
      "\u001b[1;31m---------------------------------------------------------------------------\u001b[0m",
      "\u001b[1;31mModuleNotFoundError\u001b[0m                       Traceback (most recent call last)",
      "Cell \u001b[1;32mIn[2], line 1\u001b[0m\n\u001b[1;32m----> 1\u001b[0m \u001b[38;5;28;01mimport\u001b[39;00m \u001b[38;5;21;01mpyqt\u001b[39;00m\n",
      "\u001b[1;31mModuleNotFoundError\u001b[0m: No module named 'pyqt'"
     ]
    }
   ],
   "source": [
    "import pyqt"
   ]
  },
  {
   "cell_type": "code",
   "execution_count": 2,
   "id": "1a42495f",
   "metadata": {},
   "outputs": [
    {
     "ename": "error",
     "evalue": "OpenCV(4.8.1) D:\\a\\opencv-python\\opencv-python\\opencv\\modules\\highgui\\src\\window.cpp:1255: error: (-2:Unspecified error) The function is not implemented. Rebuild the library with Windows, GTK+ 2.x or Cocoa support. If you are on Ubuntu or Debian, install libgtk2.0-dev and pkg-config, then re-run cmake or configure script in function 'cvNamedWindow'\n",
     "output_type": "error",
     "traceback": [
      "\u001b[1;31m---------------------------------------------------------------------------\u001b[0m",
      "\u001b[1;31merror\u001b[0m                                     Traceback (most recent call last)",
      "Cell \u001b[1;32mIn[2], line 1\u001b[0m\n\u001b[1;32m----> 1\u001b[0m cv2\u001b[38;5;241m.\u001b[39mnamedWindow(\u001b[38;5;124m\"\u001b[39m\u001b[38;5;124mScreenshot_App\u001b[39m\u001b[38;5;124m\"\u001b[39m)\n",
      "\u001b[1;31merror\u001b[0m: OpenCV(4.8.1) D:\\a\\opencv-python\\opencv-python\\opencv\\modules\\highgui\\src\\window.cpp:1255: error: (-2:Unspecified error) The function is not implemented. Rebuild the library with Windows, GTK+ 2.x or Cocoa support. If you are on Ubuntu or Debian, install libgtk2.0-dev and pkg-config, then re-run cmake or configure script in function 'cvNamedWindow'\n"
     ]
    }
   ],
   "source": [
    "#cv2.namedWindow(\"Screenshot_App\")"
   ]
  },
  {
   "cell_type": "code",
   "execution_count": 4,
   "id": "c534fa47",
   "metadata": {},
   "outputs": [
    {
     "name": "stdout",
     "output_type": "stream",
     "text": [
      "ERROR\n"
     ]
    }
   ],
   "source": [
    "def get_file_hash(file_path):\n",
    "    \"\"\"Generate a hash for a given file.\"\"\"\n",
    "    with open(file_path, 'rb') as f:\n",
    "        return md5(f.read()).hexdigest()\n",
    "\n",
    "def detect_new_picture(folder_path, checked_files=set()):\n",
    "    \"\"\"Detect if a new picture has been uploaded in the specified folder.\"\"\"\n",
    "    new_files = set()\n",
    "\n",
    "    for filename in os.listdir(folder_path):\n",
    "        file_path = os.path.join(folder_path, filename)\n",
    "\n",
    "        # Skip directories\n",
    "        if os.path.isdir(file_path):\n",
    "            continue\n",
    "\n",
    "        # Check if the file has already been checked\n",
    "        if filename in checked_files:\n",
    "            continue\n",
    "\n",
    "        # Get the hash of the current file\n",
    "        current_hash = get_file_hash(file_path)\n",
    "\n",
    "        # Add the current file to the set of checked files\n",
    "        checked_files.add(filename)\n",
    "\n",
    "        # Check if the file is new (not in the set of checked hashes)\n",
    "        if current_hash not in checked_files:\n",
    "            new_files.add(filename)\n",
    "\n",
    "    return new_files\n",
    "\n",
    "def main():\n",
    "    cam = cv2.VideoCapture(1)\n",
    "    img_counter = 0\n",
    "\n",
    "    folder_path = '/Users/dominik/Documents/GitHub/Dominik_Ironhack/Projects/Final_Project'\n",
    "    checked_files = set()\n",
    "\n",
    "    while True:\n",
    "        ret, frame = cam.read()\n",
    "\n",
    "        if not ret:\n",
    "            print(\"ERROR\")\n",
    "            break\n",
    "\n",
    "        cv2.imshow(\"Frame\", frame)\n",
    "\n",
    "        k = cv2.waitKey(1)\n",
    "\n",
    "        if k == 27:   # 27 is esc key\n",
    "            print(\"EXIT\")\n",
    "            break\n",
    "\n",
    "        elif k == 32:  # 32 is space bar\n",
    "            img1 = cv2.cvtColor(frame, cv2.COLOR_BGR2RGB)\n",
    "            plt.imshow(img1)\n",
    "            plt.title(\"Camera image 1\")\n",
    "            img_name = \"opencv_frame_{}.jpg\".format(time.time())\n",
    "            cv2.imwrite(img_name, frame)\n",
    "            print(\"Screenshot taken\")\n",
    "            img_counter += 1\n",
    "\n",
    "        # Integrate the function to detect new pictures\n",
    "        new_files = detect_new_picture(folder_path, checked_files)\n",
    "\n",
    "        # Process new files as needed\n",
    "        for new_file in new_files:\n",
    "            print(f\"New picture detected: {new_file}\")\n",
    "\n",
    "    # Release resources\n",
    "    cam.release()\n",
    "    cv2.destroyAllWindows()\n",
    "    cv2.waitKey(0)\n",
    "\n",
    "if __name__ == \"__main__\":\n",
    "    main()"
   ]
  },
  {
   "cell_type": "code",
   "execution_count": null,
   "id": "0e8303cd",
   "metadata": {},
   "outputs": [],
   "source": []
  }
 ],
 "metadata": {
  "kernelspec": {
   "display_name": "Python 3 (ipykernel)",
   "language": "python",
   "name": "python3"
  },
  "language_info": {
   "codemirror_mode": {
    "name": "ipython",
    "version": 3
   },
   "file_extension": ".py",
   "mimetype": "text/x-python",
   "name": "python",
   "nbconvert_exporter": "python",
   "pygments_lexer": "ipython3",
   "version": "3.11.5"
  }
 },
 "nbformat": 4,
 "nbformat_minor": 5
}
