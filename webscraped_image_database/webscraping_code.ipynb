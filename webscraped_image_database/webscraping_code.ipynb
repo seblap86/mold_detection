{
 "cells": [
  {
   "cell_type": "markdown",
   "id": "ce915260",
   "metadata": {},
   "source": [
    "## Search word generation"
   ]
  },
  {
   "cell_type": "code",
   "execution_count": null,
   "id": "ee41d939",
   "metadata": {},
   "outputs": [],
   "source": [
    "# Search word generation based on pre-existing database of 36 fruit and vegetable classes\n",
    "fruits = 'banana, apple, pear, grapes, orange, kiwi, watermelon, pomegranate, pineapple, mango'\n",
    "vegetables = 'cucumber, carrot, capsicum, onion, potato, lemon, tomato, raddish, beetroot, cabbage, lettuce, spinach, soy bean, cauliflower, bell pepper, chilli pepper, turnip, corn, sweetcorn, sweet potato, paprika, jalepeño, ginger, garlic, peas, eggplant'\n",
    "combined_list = fruits.split(',') + vegetables.split(',')\n",
    "\n",
    "all_fruits_vegetables = []\n",
    "for i in fruits_list:\n",
    "    all_fruits_vegetables.append(i.strip())\n",
    "\n",
    "searchword_list_moldy = []\n",
    "for i in all_fruits_vegetables:\n",
    "    searchword_list_moldy.append('moldy ' + i)\n",
    "\n",
    "searchword_list_moldy"
   ]
  },
  {
   "cell_type": "markdown",
   "id": "f99e8ed5",
   "metadata": {},
   "source": [
    "## Image web scraping via Bing image search"
   ]
  },
  {
   "cell_type": "markdown",
   "id": "41761948",
   "metadata": {},
   "source": [
    "#### Main search"
   ]
  },
  {
   "cell_type": "code",
   "execution_count": null,
   "id": "2bcf75b0",
   "metadata": {},
   "outputs": [],
   "source": [
    "#pip install bing-image-downloader\n",
    "from bing_image_downloader import downloader"
   ]
  },
  {
   "cell_type": "code",
   "execution_count": null,
   "id": "abf3bb84",
   "metadata": {},
   "outputs": [],
   "source": [
    "# Defining query (pre-generated searchwords plus a few extra search words)\n",
    "queries = [\n",
    "'fruit mold',\n",
    "'vegetable mold',\n",
    "'moldy fruits',\n",
    "'moldy vegetables',\n",
    "'rotten fruit',\n",
    "'rotten vegetable',\n",
    "'schimmel gemüse',\n",
    "'schimmel obst',\n",
    "'schimmeliges gemüse',\n",
    "'schimmeliges obst'\n",
    "] + searchword_list_moldy + all_fruits_vegetables\n",
    "\n",
    "# Check\n",
    "queries"
   ]
  },
  {
   "cell_type": "code",
   "execution_count": null,
   "id": "9061b3bd",
   "metadata": {},
   "outputs": [],
   "source": [
    "# Downloading up to top 65 results for each search word\n",
    "for query_string in queries:\n",
    "    downloader.download(query_string, limit=65,  output_dir='test_images', adult_filter_off=False, force_replace=False, timeout=60, verbose=True)"
   ]
  },
  {
   "cell_type": "markdown",
   "id": "9a9debbf",
   "metadata": {},
   "source": [
    "#### Follow-ups for missings (previous command returned empty folders for some classes) "
   ]
  },
  {
   "cell_type": "code",
   "execution_count": null,
   "id": "dd4c59f6",
   "metadata": {},
   "outputs": [],
   "source": [
    "# Defining query\n",
    "queries = [\n",
    "'moldy corn',\n",
    "'carrot',\n",
    "'möhre',\n",
    "'chilli pepper',\n",
    "'chilli',\n",
    "'chilli schote',\n",
    "'aubergine',\n",
    "'eggplant',\n",
    "'moldy grapes',\n",
    "'schimmelige weintrauben',\n",
    "'schimmel salat',\n",
    "'schimmeliger salatkopf',\n",
    "'potato',\n",
    "'moldy potato',\n",
    "'kartoffel',\n",
    "'schimmel kartoffel',\n",
    "'kartoffel schimmel',\n",
    "'radish',\n",
    "'radieschen',\n",
    "'schimmel rübe',\n",
    "'rübe schimmel'\n",
    "]\n",
    "\n",
    "# Check\n",
    "queries"
   ]
  },
  {
   "cell_type": "code",
   "execution_count": null,
   "id": "5945907b",
   "metadata": {},
   "outputs": [],
   "source": [
    "for query_string in queries:\n",
    "    downloader.download(query_string, limit=65,  output_dir='f_ups', adult_filter_off=False, force_replace=False, timeout=60, verbose=True)"
   ]
  },
  {
   "cell_type": "markdown",
   "id": "92d34b4c",
   "metadata": {},
   "source": [
    "#### Downloading images for some additional keywords (as we received many moldy pictures including these in the previous search)"
   ]
  },
  {
   "cell_type": "code",
   "execution_count": null,
   "id": "b2f691ad",
   "metadata": {},
   "outputs": [],
   "source": [
    "# Defining query\n",
    "others = [\n",
    "'bread',\n",
    "'brot',\n",
    "'cheese',\n",
    "'spaghetti',\n",
    "'burger',\n",
    "'lasagna',\n",
    "'strawberries'\n",
    "]\n",
    "\n",
    "# Check\n",
    "others"
   ]
  },
  {
   "cell_type": "code",
   "execution_count": null,
   "id": "474ddc66",
   "metadata": {},
   "outputs": [],
   "source": [
    "for query_string in others:\n",
    "    downloader.download(query_string, limit=65,  output_dir='f_ups', adult_filter_off=False, force_replace=False, timeout=60, verbose=True)"
   ]
  }
 ],
 "metadata": {
  "kernelspec": {
   "display_name": "Python 3 (ipykernel)",
   "language": "python",
   "name": "python3"
  },
  "language_info": {
   "codemirror_mode": {
    "name": "ipython",
    "version": 3
   },
   "file_extension": ".py",
   "mimetype": "text/x-python",
   "name": "python",
   "nbconvert_exporter": "python",
   "pygments_lexer": "ipython3",
   "version": "3.11.4"
  }
 },
 "nbformat": 4,
 "nbformat_minor": 5
}
