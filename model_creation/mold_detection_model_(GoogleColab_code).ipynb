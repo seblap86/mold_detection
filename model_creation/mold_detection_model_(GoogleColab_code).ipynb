{
  "cells": [
    {
      "cell_type": "markdown",
      "source": [
        "## Importing libraries"
      ],
      "metadata": {
        "id": "F0NTGHv28G1S"
      }
    },
    {
      "cell_type": "code",
      "execution_count": null,
      "metadata": {
        "id": "6lwPPjJ6_WVk"
      },
      "outputs": [],
      "source": [
        "# Importing libraries\n",
        "import os\n",
        "import itertools\n",
        "import numpy as np\n",
        "import pandas as pd\n",
        "import tensorflow as tf\n",
        "import matplotlib.pyplot as plt\n",
        "import tensorflow.keras\n",
        "from google.colab import drive\n",
        "from tensorflow.keras.preprocessing import image\n",
        "from tensorflow.keras.preprocessing.image import ImageDataGenerator\n",
        "from sklearn.metrics import classification_report, confusion_matrix"
      ]
    },
    {
      "cell_type": "markdown",
      "source": [
        "## Connecting to Google Drive"
      ],
      "metadata": {
        "id": "ec2jEdLE6kwW"
      }
    },
    {
      "cell_type": "code",
      "source": [
        "drive.mount('/content/gdrive', force_remount=True)"
      ],
      "metadata": {
        "id": "MqD8NZIc6tLo"
      },
      "execution_count": null,
      "outputs": []
    },
    {
      "cell_type": "markdown",
      "source": [
        "## Preparing the dataset"
      ],
      "metadata": {
        "id": "F6_XejiQ8TD4"
      }
    },
    {
      "cell_type": "markdown",
      "source": [
        "#### Setting up directories, basic data checks"
      ],
      "metadata": {
        "id": "OHzuGIFgeLMy"
      }
    },
    {
      "cell_type": "code",
      "source": [
        "# General directory\n",
        "general_dir = '/content/gdrive/MyDrive/split_upsampled_structure'\n",
        "\n",
        "# Train folders\n",
        "train_dir = general_dir+'/train'\n",
        "train_mold_dir = general_dir+'/train/mold'\n",
        "train_no_mold_dir = general_dir+'/train/no_mold'\n",
        "\n",
        "# Validation folders\n",
        "validation_dir = general_dir+'/validation'\n",
        "validation_mold_dir = general_dir+'/validation/mold'\n",
        "validation_no_mold_dir = general_dir+'/validation/no_mold'\n",
        "\n",
        "# Test folders\n",
        "test_dir = general_dir+'/test'\n",
        "test_mold_dir = general_dir+'/test/mold'\n",
        "test_no_mold_dir = general_dir+'/test/no_mold'"
      ],
      "metadata": {
        "id": "RP-i6rOqYBj7"
      },
      "execution_count": null,
      "outputs": []
    },
    {
      "cell_type": "code",
      "source": [
        "# Quick checks\n",
        "print(os.listdir(train_no_mold_dir)[:5])\n",
        "print(os.listdir(train_mold_dir)[:5])\n",
        "print(os.listdir(validation_no_mold_dir)[:5])\n",
        "print(os.listdir(validation_mold_dir)[:5])\n",
        "print(os.listdir(test_no_mold_dir)[:5])\n",
        "print(os.listdir(test_mold_dir)[:5])"
      ],
      "metadata": {
        "id": "ZbkcxRxzYUnW"
      },
      "execution_count": null,
      "outputs": []
    },
    {
      "cell_type": "code",
      "source": [
        "# Checking number of images in folders\n",
        "print('train mold images:', len(os.listdir(train_mold_dir)))\n",
        "print('train no_mold images:', len(os.listdir(train_no_mold_dir)))\n",
        "print('train total images:', len(os.listdir(train_mold_dir)) + len(os.listdir(train_no_mold_dir)))\n",
        "print()\n",
        "print('validation mold images:', len(os.listdir(validation_mold_dir)))\n",
        "print('validation no_mold images:', len(os.listdir(validation_no_mold_dir)))\n",
        "print('validation total images:', len(os.listdir(validation_mold_dir)) + len(os.listdir(validation_no_mold_dir)))\n",
        "print()\n",
        "print('test mold images:', len(os.listdir(test_mold_dir)))\n",
        "print('test no_mold images:', len(os.listdir(test_no_mold_dir)))\n",
        "print('test total images:', len(os.listdir(test_mold_dir)) + len(os.listdir(test_no_mold_dir)))\n",
        "print()\n",
        "print('total images:', len(os.listdir(train_mold_dir)) + len(os.listdir(train_no_mold_dir))+len(os.listdir(validation_mold_dir)) + len(os.listdir(validation_no_mold_dir))+len(os.listdir(test_mold_dir)) + len(os.listdir(test_no_mold_dir)))"
      ],
      "metadata": {
        "id": "h5TnARdCYr5Q"
      },
      "execution_count": null,
      "outputs": []
    },
    {
      "cell_type": "markdown",
      "source": [
        "#### Setup of training, validation, and test set"
      ],
      "metadata": {
        "id": "kW0H52LkW1v_"
      }
    },
    {
      "cell_type": "code",
      "source": [
        "# Training set\n",
        "train_generator = ImageDataGenerator(\n",
        "    rescale=1./255,         # Rescaling\n",
        "    rotation_range=20,     # Random rotation between -20 and 20 degrees\n",
        "    width_shift_range=0.1,  # Randomly shift the width by 10%\n",
        "    height_shift_range=0.1, # Randomly shift the height by 10%\n",
        "    shear_range=0.1,        # Randomly shears the images (distorts along an axis, simulates looking from different angles)\n",
        "    zoom_range=0.1,         # Randomly zooms in\n",
        "    horizontal_flip=True,   # Random horizontal flip\n",
        "    vertical_flip=True      # Random vertical flip\n",
        ")\n",
        "\n",
        "train_set = train_generator.flow_from_directory(\n",
        "    train_dir,\n",
        "    classes = ['no_mold','mold'],\n",
        "    target_size=(224, 224),\n",
        "    batch_size=16,\n",
        "    shuffle=True,\n",
        "    color_mode='rgb',\n",
        "    class_mode='binary',\n",
        "    seed=42,\n",
        "    interpolation = \"bilinear\"\n",
        ")"
      ],
      "metadata": {
        "id": "SmTsEXlUvN9k"
      },
      "execution_count": null,
      "outputs": []
    },
    {
      "cell_type": "code",
      "source": [
        "# Validation set\n",
        "validation_generator = ImageDataGenerator(rescale=1./255) # Just rescaling\n",
        "\n",
        "validation_set = validation_generator.flow_from_directory(\n",
        "    validation_dir,\n",
        "    classes = ['no_mold','mold'],\n",
        "    target_size=(224, 224),\n",
        "    batch_size=16,\n",
        "    shuffle=True,\n",
        "    color_mode='rgb',\n",
        "    class_mode='binary',\n",
        "    seed=42,\n",
        "    interpolation = \"bilinear\"\n",
        ")"
      ],
      "metadata": {
        "id": "FWlNZ__sv8i-"
      },
      "execution_count": null,
      "outputs": []
    },
    {
      "cell_type": "code",
      "source": [
        "# Test set\n",
        "test_generator = ImageDataGenerator(rescale=1./255) # Just rescaling\n",
        "\n",
        "test_set = test_generator.flow_from_directory(\n",
        "    test_dir,\n",
        "    classes = ['no_mold','mold'],\n",
        "    target_size=(224, 224),\n",
        "    batch_size=16,\n",
        "    shuffle=True,\n",
        "    color_mode='rgb',\n",
        "    class_mode='binary',\n",
        "    seed=42,\n",
        "    interpolation = \"bilinear\"\n",
        ")"
      ],
      "metadata": {
        "id": "NHeA-NWOwS0S"
      },
      "execution_count": null,
      "outputs": []
    },
    {
      "cell_type": "markdown",
      "source": [
        "#### Checking if setup is correct"
      ],
      "metadata": {
        "id": "g7WiseNgPaxZ"
      }
    },
    {
      "cell_type": "code",
      "source": [
        "# Accessing information about class indexes and sample sizes in train_set\n",
        "no_mold_class_index = train_set.class_indices['no_mold']\n",
        "mold_class_index = train_set.class_indices['mold']\n",
        "print(\"Index of class 'no mold':\", no_mold_class_index)\n",
        "print(\"Index of class 'mold':\", mold_class_index)\n",
        "print()\n",
        "\n",
        "no_mold_images_count = (train_set.classes == no_mold_class_index).sum()\n",
        "mold_images_count = (train_set.classes == mold_class_index).sum()\n",
        "print(\"Number of training images belonging to the class 'no_mold':\", no_mold_images_count)\n",
        "print(\"Number of training images belonging to the class 'mold':\", mold_images_count)\n",
        "print()\n",
        "print(\"Total number of images in training set:\", no_mold_images_count + mold_images_count)"
      ],
      "metadata": {
        "id": "grjqUtAKUWLm"
      },
      "execution_count": null,
      "outputs": []
    },
    {
      "cell_type": "code",
      "source": [
        "# Plotting some train images to see if augmentation is correctly applied\n",
        "def plotImages(images_arr):\n",
        "    fig, axes = plt.subplots(1, 8, figsize=(20, 20))\n",
        "    axes = axes.flatten()\n",
        "    for img, ax in zip(images_arr, axes):\n",
        "        ax.imshow(img)\n",
        "    plt.tight_layout()\n",
        "    plt.show()\n",
        "\n",
        "plotImages(train_set[0][0])"
      ],
      "metadata": {
        "id": "DEDjVBOnNToh"
      },
      "execution_count": null,
      "outputs": []
    },
    {
      "cell_type": "markdown",
      "source": [
        "## Model setup"
      ],
      "metadata": {
        "id": "8DDU6m5t8gEP"
      }
    },
    {
      "cell_type": "code",
      "source": [
        "# Defining the model (CNN - convolutional neural network)\n",
        "cnn = tf.keras.models.Sequential()\n",
        "cnn.add(tf.keras.layers.Conv2D(128, kernel_size=(5, 5), padding='same', activation='relu', input_shape=(224, 224, 3)))\n",
        "cnn.add(tf.keras.layers.MaxPool2D(pool_size=(3, 3), strides=2, padding='same'))\n",
        "cnn.add(tf.keras.layers.Conv2D(64, kernel_size=(2, 2), activation='relu', padding='same'))\n",
        "cnn.add(tf.keras.layers.MaxPool2D((2, 2), 2, padding='same'))\n",
        "cnn.add(tf.keras.layers.Conv2D(32, kernel_size=(2, 2), activation='relu', padding='same'))\n",
        "cnn.add(tf.keras.layers.MaxPool2D((2, 2), 2, padding='same'))\n",
        "\n",
        "cnn.add(tf.keras.layers.Flatten())\n",
        "\n",
        "cnn.add(tf.keras.layers.Dense(units=512,activation='relu'))\n",
        "cnn.add(tf.keras.layers.Dropout(rate=0.25))\n",
        "cnn.add(tf.keras.layers.Dense(units=1,activation='sigmoid'))"
      ],
      "metadata": {
        "id": "PCYtSbol0C16"
      },
      "execution_count": null,
      "outputs": []
    },
    {
      "cell_type": "code",
      "execution_count": null,
      "metadata": {
        "id": "cPm4bbsrCFwc"
      },
      "outputs": [],
      "source": [
        "# Model summary\n",
        "cnn.summary()"
      ]
    },
    {
      "cell_type": "code",
      "execution_count": null,
      "metadata": {
        "id": "VKqCaPuyOuv1"
      },
      "outputs": [],
      "source": [
        "# Compiling the model\n",
        "cnn.compile(loss='binary_crossentropy', optimizer=tf.keras.optimizers.Adam(learning_rate = 0.001) , metrics=['accuracy', tf.keras.metrics.Recall(), tf.keras.metrics.Precision()])"
      ]
    },
    {
      "cell_type": "markdown",
      "source": [
        "## Training and saving"
      ],
      "metadata": {
        "id": "B6p4SuD18jdW"
      }
    },
    {
      "cell_type": "code",
      "source": [
        "# Setting up early stopping\n",
        "es = tf.keras.callbacks.EarlyStopping(monitor='val_loss',\n",
        "                              min_delta=0,\n",
        "                              patience=4,\n",
        "                              verbose=0,\n",
        "                              mode='auto')"
      ],
      "metadata": {
        "id": "5dRKvNBmeDX5"
      },
      "execution_count": null,
      "outputs": []
    },
    {
      "cell_type": "code",
      "execution_count": null,
      "metadata": {
        "id": "d7SP1UVJO7le"
      },
      "outputs": [],
      "source": [
        "# Fitting the model and creating history - early stopping deactivated\n",
        "history = cnn.fit(train_set,\n",
        "          validation_data = validation_set,\n",
        "          batch_size=16,\n",
        "          epochs = 23\n",
        "#         , callbacks=[es]\n",
        "          )"
      ]
    },
    {
      "cell_type": "code",
      "source": [
        "# Setting Google Drive path\n",
        "drive_path = '/content/gdrive/MyDrive/MOLD/'"
      ],
      "metadata": {
        "id": "E1tZ1CmDCwEq"
      },
      "execution_count": null,
      "outputs": []
    },
    {
      "cell_type": "code",
      "source": [
        "# Saving and displaying history\n",
        "history_df = pd.DataFrame(history.history)\n",
        "display(history_df)\n",
        "\n",
        "history_df.to_csv(drive_path + 'history_mold_detection_model.csv')"
      ],
      "metadata": {
        "id": "Kvh9qGhP9nWu"
      },
      "execution_count": null,
      "outputs": []
    },
    {
      "cell_type": "code",
      "source": [
        "# Saving (.keras: saves the model's architecture, weights, and training configuration in a single `model.keras` zip archiv)\n",
        "cnn.save(drive_path + 'mold_detection_model.keras')"
      ],
      "metadata": {
        "id": "wkpqHzyOAHkG"
      },
      "execution_count": null,
      "outputs": []
    },
    {
      "cell_type": "markdown",
      "source": [
        "## Evaluation"
      ],
      "metadata": {
        "id": "hb7LZvh98rx2"
      }
    },
    {
      "cell_type": "code",
      "source": [
        "# Loading the saved model or using cnn\n",
        "#loaded_model = tf.keras.models.load_model(drive_path + 'mold_detection_model.keras')\n",
        "loaded_model = cnn"
      ],
      "metadata": {
        "id": "Vn0csHqcFwka"
      },
      "execution_count": null,
      "outputs": []
    },
    {
      "cell_type": "markdown",
      "source": [
        "#### Training and validation set"
      ],
      "metadata": {
        "id": "YQRgndkCFpGR"
      }
    },
    {
      "cell_type": "code",
      "source": [
        "# Summarizing history for accuracy\n",
        "plt.plot(history.history['accuracy'])\n",
        "plt.plot(history.history['val_accuracy'])\n",
        "plt.title('model accuracy')\n",
        "plt.ylabel('accuracy')\n",
        "plt.xlabel('epoch')\n",
        "plt.legend(['train', 'validation'], loc='upper left')\n",
        "plt.show()\n",
        "\n",
        "# Summarizing history for loss\n",
        "plt.plot(history.history['loss'])\n",
        "plt.plot(history.history['val_loss'])\n",
        "plt.title('model loss')\n",
        "plt.ylabel('loss')\n",
        "plt.xlabel('epoch')\n",
        "plt.legend(['train', 'validation'], loc='upper left')\n",
        "plt.show()"
      ],
      "metadata": {
        "id": "YPe6mX20dChK"
      },
      "execution_count": null,
      "outputs": []
    },
    {
      "cell_type": "markdown",
      "source": [
        "#### Test set"
      ],
      "metadata": {
        "id": "w_Mr4HH1GAWp"
      }
    },
    {
      "cell_type": "code",
      "source": [
        "test_loss,test_accuracy,test_recall,test_precision=cnn.evaluate(test_set)\n",
        "\n",
        "print('test_loss:', round(test_loss,2))\n",
        "print('test_accuracy:', round(test_accuracy,2))\n",
        "print('test_recall:', round(test_recall,2))\n",
        "print('test_precision:', round(test_precision,2))"
      ],
      "metadata": {
        "id": "DQuTjvm8FhTv"
      },
      "execution_count": null,
      "outputs": []
    },
    {
      "cell_type": "markdown",
      "source": [
        "#### Single external pictures"
      ],
      "metadata": {
        "id": "7OZebAbhGbqI"
      }
    },
    {
      "cell_type": "code",
      "source": [
        "# Importing a single image\n",
        "img_path = '/content/MANDARIN.jpg'\n",
        "img = image.load_img(img_path, target_size=(224, 224))  # Adjusting the target size based on model's input size\n",
        "img_array = image.img_to_array(img)\n",
        "img_array = np.expand_dims(img_array, axis=0)\n",
        "img_array /= 255.0  # Normalizing pixel values\n",
        "\n",
        "# Predicting the class\n",
        "prediction = cnn.predict(img_array)[0][0] # It returns a nested list with just 1 element, so calling this element right away\n",
        "\n",
        "# Getting and printing the predicted class label\n",
        "if prediction <0.5:\n",
        "    predicted_class = 0\n",
        "    predicted_label = 'no mold'\n",
        "else:\n",
        "    predicted_class = 1\n",
        "    predicted_label = 'mold'\n",
        "print()\n",
        "print(\"Predicted class:\", predicted_class)\n",
        "\n",
        "# Displaying the name of the class\n",
        "print(predicted_label)\n",
        "\n",
        "# Displaying the predicted class probability\n",
        "print(f\"Probability for mold: {round(prediction*100,2)}%\")\n",
        "print()\n",
        "\n",
        "display(plt.imshow(img))"
      ],
      "metadata": {
        "id": "iShM0HycJTuW"
      },
      "execution_count": null,
      "outputs": []
    }
  ],
  "metadata": {
    "colab": {
      "provenance": []
    },
    "kernelspec": {
      "display_name": "Python 3",
      "name": "python3"
    },
    "language_info": {
      "name": "python"
    }
  },
  "nbformat": 4,
  "nbformat_minor": 0
}